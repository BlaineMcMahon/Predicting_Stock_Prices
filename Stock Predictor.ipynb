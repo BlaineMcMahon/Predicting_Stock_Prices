{
 "cells": [
  {
   "cell_type": "markdown",
   "metadata": {},
   "source": [
    "# Predicting Stock Price Using Machine Learning"
   ]
  },
  {
   "cell_type": "markdown",
   "metadata": {},
   "source": [
    "# Libraries "
   ]
  },
  {
   "cell_type": "code",
   "execution_count": 116,
   "metadata": {},
   "outputs": [],
   "source": [
    "import pandas as pd\n",
    "import numpy as np\n",
    "import matplotlib.pyplot as plt\n",
    "from sklearn.preprocessing import MinMaxScaler\n",
    "\n",
    "from keras import backend as K\n",
    "import os \n",
    "from importlib import reload\n",
    "\n",
    "%matplotlib inline\n",
    "\n",
    "\n"
   ]
  },
  {
   "cell_type": "code",
   "execution_count": 117,
   "metadata": {},
   "outputs": [
    {
     "data": {
      "text/html": [
       "<div>\n",
       "<style scoped>\n",
       "    .dataframe tbody tr th:only-of-type {\n",
       "        vertical-align: middle;\n",
       "    }\n",
       "\n",
       "    .dataframe tbody tr th {\n",
       "        vertical-align: top;\n",
       "    }\n",
       "\n",
       "    .dataframe thead th {\n",
       "        text-align: right;\n",
       "    }\n",
       "</style>\n",
       "<table border=\"1\" class=\"dataframe\">\n",
       "  <thead>\n",
       "    <tr style=\"text-align: right;\">\n",
       "      <th></th>\n",
       "      <th>Date</th>\n",
       "      <th>Open</th>\n",
       "      <th>High</th>\n",
       "      <th>Low</th>\n",
       "      <th>Close</th>\n",
       "      <th>Adj Close</th>\n",
       "      <th>Volume</th>\n",
       "    </tr>\n",
       "  </thead>\n",
       "  <tbody>\n",
       "    <tr>\n",
       "      <th>0</th>\n",
       "      <td>2014-01-09</td>\n",
       "      <td>568.025513</td>\n",
       "      <td>568.413025</td>\n",
       "      <td>559.143311</td>\n",
       "      <td>561.468201</td>\n",
       "      <td>561.468201</td>\n",
       "      <td>4196000</td>\n",
       "    </tr>\n",
       "    <tr>\n",
       "      <th>1</th>\n",
       "      <td>2014-01-10</td>\n",
       "      <td>565.859619</td>\n",
       "      <td>565.859619</td>\n",
       "      <td>557.499023</td>\n",
       "      <td>561.438354</td>\n",
       "      <td>561.438354</td>\n",
       "      <td>4314700</td>\n",
       "    </tr>\n",
       "    <tr>\n",
       "      <th>2</th>\n",
       "      <td>2014-01-13</td>\n",
       "      <td>559.595398</td>\n",
       "      <td>569.749329</td>\n",
       "      <td>554.975403</td>\n",
       "      <td>557.861633</td>\n",
       "      <td>557.861633</td>\n",
       "      <td>4869100</td>\n",
       "    </tr>\n",
       "    <tr>\n",
       "      <th>3</th>\n",
       "      <td>2014-01-14</td>\n",
       "      <td>565.298279</td>\n",
       "      <td>571.781128</td>\n",
       "      <td>560.400146</td>\n",
       "      <td>570.986267</td>\n",
       "      <td>570.986267</td>\n",
       "      <td>4997400</td>\n",
       "    </tr>\n",
       "    <tr>\n",
       "      <th>4</th>\n",
       "      <td>2014-01-15</td>\n",
       "      <td>572.769714</td>\n",
       "      <td>573.768188</td>\n",
       "      <td>568.199402</td>\n",
       "      <td>570.598816</td>\n",
       "      <td>570.598816</td>\n",
       "      <td>3925700</td>\n",
       "    </tr>\n",
       "  </tbody>\n",
       "</table>\n",
       "</div>"
      ],
      "text/plain": [
       "         Date        Open        High         Low       Close   Adj Close  \\\n",
       "0  2014-01-09  568.025513  568.413025  559.143311  561.468201  561.468201   \n",
       "1  2014-01-10  565.859619  565.859619  557.499023  561.438354  561.438354   \n",
       "2  2014-01-13  559.595398  569.749329  554.975403  557.861633  557.861633   \n",
       "3  2014-01-14  565.298279  571.781128  560.400146  570.986267  570.986267   \n",
       "4  2014-01-15  572.769714  573.768188  568.199402  570.598816  570.598816   \n",
       "\n",
       "    Volume  \n",
       "0  4196000  \n",
       "1  4314700  \n",
       "2  4869100  \n",
       "3  4997400  \n",
       "4  3925700  "
      ]
     },
     "execution_count": 117,
     "metadata": {},
     "output_type": "execute_result"
    }
   ],
   "source": [
    "#Normalize Data \n",
    "scaler = MinMaxScaler(feature_range=(0, 1))\n",
    "\n",
    "#Read The File \n",
    "data_set = pd.read_csv('C:\\\\Users\\Blaine\\stock_prices\\GOOG5.csv')\n",
    "#Print Head\n",
    "data_set.head()"
   ]
  },
  {
   "cell_type": "markdown",
   "metadata": {},
   "source": [
    "- The columns Open and Close represent the starting and final price at which the stock is traded on a particular day.\n",
    "- High, Low and Last represent the maximum, minimum, and last price of the share for the day.\n",
    "- Total Trade Quantity is the number of shares bought or sold in the day and Turnover (Lacs) is the turnover of the particular company on a given date."
   ]
  },
  {
   "cell_type": "code",
   "execution_count": 118,
   "metadata": {},
   "outputs": [
    {
     "data": {
      "text/plain": [
       "Date          object\n",
       "Open         float64\n",
       "High         float64\n",
       "Low          float64\n",
       "Close        float64\n",
       "Adj Close    float64\n",
       "Volume         int64\n",
       "dtype: object"
      ]
     },
     "execution_count": 118,
     "metadata": {},
     "output_type": "execute_result"
    }
   ],
   "source": [
    "data_set.dtypes"
   ]
  },
  {
   "cell_type": "code",
   "execution_count": 119,
   "metadata": {},
   "outputs": [],
   "source": [
    "data_set['Date'] = pd.to_datetime(data_set['Date'])"
   ]
  },
  {
   "cell_type": "code",
   "execution_count": 120,
   "metadata": {},
   "outputs": [
    {
     "data": {
      "text/plain": [
       "<bound method DataFrame.info of                    Open         High          Low        Close    Adj Close  \\\n",
       "Date                                                                          \n",
       "2014-01-09   568.025513   568.413025   559.143311   561.468201   561.468201   \n",
       "2014-01-10   565.859619   565.859619   557.499023   561.438354   561.438354   \n",
       "2014-01-13   559.595398   569.749329   554.975403   557.861633   557.861633   \n",
       "2014-01-14   565.298279   571.781128   560.400146   570.986267   570.986267   \n",
       "2014-01-15   572.769714   573.768188   568.199402   570.598816   570.598816   \n",
       "2014-01-16   570.837280   575.223694   570.290833   574.374268   574.374268   \n",
       "2014-01-17   574.687195   576.565002   568.403076   571.547607   571.547607   \n",
       "2014-01-21   576.714050   578.239136   571.930176   578.090088   578.090088   \n",
       "2014-01-22   579.535706   580.171570   575.685730   578.745789   578.745789   \n",
       "2014-01-23   576.252014   577.489014   573.455200   576.301697   576.301697   \n",
       "2014-01-24   571.786072   573.047852   557.871582   558.283875   558.283875   \n",
       "2014-01-27   559.411560   559.610291   537.638184   547.056946   547.056946   \n",
       "2014-01-28   551.572571   559.237671   551.383789   557.876526   557.876526   \n",
       "2014-01-29   555.944092   557.250610   546.157776   549.883545   549.883545   \n",
       "2014-01-30   568.800476   572.521301   559.982849   564.026550   564.026550   \n",
       "2014-01-31   581.890381   589.436279   571.845703   586.669312   586.669312   \n",
       "2014-02-03   585.789978   587.041870   562.347473   563.052856   563.052856   \n",
       "2014-02-04   565.318176   573.768188   564.831299   565.402588   565.402588   \n",
       "2014-02-05   567.995728   571.666870   560.365356   567.906311   567.906311   \n",
       "2014-02-06   571.845703   576.331543   570.067261   576.232178   576.232178   \n",
       "2014-02-07   580.042358   585.144226   576.530212   584.915710   584.915710   \n",
       "2014-02-10   582.113892   587.379639   580.732910   582.675232   582.675232   \n",
       "2014-02-11   586.271851   592.084045   582.317566   591.244507   591.244507   \n",
       "2014-02-12   590.658325   591.155090   586.872986   589.510803   589.510803   \n",
       "2014-02-13   586.559998   596.073120   586.018494   596.073120   596.073120   \n",
       "2014-02-14   593.941956   598.303589   592.546082   597.513733   597.513733   \n",
       "2014-02-18   596.823242   602.516235   596.122803   601.527649   601.527649   \n",
       "2014-02-19   598.755676   600.703003   594.880859   597.285217   597.285217   \n",
       "2014-02-20   597.682678   599.545532   596.232056   598.164490   598.164490   \n",
       "2014-02-21   600.002563   601.025879   597.533630   598.005554   598.005554   \n",
       "...                 ...          ...          ...          ...          ...   \n",
       "2018-11-23  1030.000000  1037.589966  1022.398987  1023.880005  1023.880005   \n",
       "2018-11-26  1038.349976  1049.310059  1033.910034  1048.619995  1048.619995   \n",
       "2018-11-27  1041.000000  1057.579956  1038.489990  1044.410034  1044.410034   \n",
       "2018-11-28  1048.760010  1086.839966  1035.760010  1086.229980  1086.229980   \n",
       "2018-11-29  1076.079956  1094.244995  1076.000000  1088.300049  1088.300049   \n",
       "2018-11-30  1089.069946  1095.569946  1077.880005  1094.430054  1094.430054   \n",
       "2018-12-03  1123.140015  1124.650024  1103.665039  1106.430054  1106.430054   \n",
       "2018-12-04  1103.119995  1104.420044  1049.979980  1050.819946  1050.819946   \n",
       "2018-12-06  1034.260010  1071.199951  1030.770020  1068.729980  1068.729980   \n",
       "2018-12-07  1060.010010  1075.260010  1028.500000  1036.579956  1036.579956   \n",
       "2018-12-10  1035.050049  1048.449951  1023.289978  1039.550049  1039.550049   \n",
       "2018-12-11  1056.489990  1060.599976  1039.839966  1051.750000  1051.750000   \n",
       "2018-12-12  1068.000000  1081.650024  1062.790039  1063.680054  1063.680054   \n",
       "2018-12-13  1068.069946  1079.760010  1053.930054  1061.900024  1061.900024   \n",
       "2018-12-14  1049.979980  1062.599976  1040.790039  1042.099976  1042.099976   \n",
       "2018-12-17  1037.510010  1053.150024  1007.900024  1016.530029  1016.530029   \n",
       "2018-12-18  1026.089966  1049.479980  1021.440002  1028.709961  1028.709961   \n",
       "2018-12-19  1033.989990  1062.000000  1008.049988  1023.010010  1023.010010   \n",
       "2018-12-20  1018.130005  1034.219971   996.359985  1009.409973  1009.409973   \n",
       "2018-12-21  1015.299988  1024.020020   973.690002   979.539978   979.539978   \n",
       "2018-12-24   973.900024  1003.539978   970.109985   976.219971   976.219971   \n",
       "2018-12-26   989.010010  1040.000000   983.000000  1039.459961  1039.459961   \n",
       "2018-12-27  1017.150024  1043.890015   997.000000  1043.880005  1043.880005   \n",
       "2018-12-28  1049.619995  1055.560059  1033.099976  1037.079956  1037.079956   \n",
       "2018-12-31  1050.959961  1052.699951  1023.590027  1035.609985  1035.609985   \n",
       "2019-01-02  1016.570007  1052.319946  1015.710022  1045.849976  1045.849976   \n",
       "2019-01-03  1041.000000  1056.979980  1014.070007  1016.059998  1016.059998   \n",
       "2019-01-04  1032.589966  1070.839966  1027.417969  1070.709961  1070.709961   \n",
       "2019-01-07  1071.500000  1074.000000  1054.760010  1068.390015  1068.390015   \n",
       "2019-01-08  1076.109985  1084.560059  1060.530029  1076.280029  1076.280029   \n",
       "\n",
       "              Volume  \n",
       "Date                  \n",
       "2014-01-09   4196000  \n",
       "2014-01-10   4314700  \n",
       "2014-01-13   4869100  \n",
       "2014-01-14   4997400  \n",
       "2014-01-15   3925700  \n",
       "2014-01-16   3389600  \n",
       "2014-01-17   5437700  \n",
       "2014-01-21   3985400  \n",
       "2014-01-22   3163200  \n",
       "2014-01-23   3923400  \n",
       "2014-01-24   7835500  \n",
       "2014-01-27   8763800  \n",
       "2014-01-28   4449100  \n",
       "2014-01-29   4790600  \n",
       "2014-01-30  10248900  \n",
       "2014-01-31  11204900  \n",
       "2014-02-03   9197600  \n",
       "2014-02-04   5660300  \n",
       "2014-02-05   4820000  \n",
       "2014-02-06   3918300  \n",
       "2014-02-07   5306500  \n",
       "2014-02-10   3915500  \n",
       "2014-02-11   4128200  \n",
       "2014-02-12   3471300  \n",
       "2014-02-13   3696500  \n",
       "2014-02-14   4401800  \n",
       "2014-02-18   4245100  \n",
       "2014-02-19   4234500  \n",
       "2014-02-20   3423700  \n",
       "2014-02-21   3748800  \n",
       "...              ...  \n",
       "2018-11-23    691500  \n",
       "2018-11-26   1942800  \n",
       "2018-11-27   1803200  \n",
       "2018-11-28   2475400  \n",
       "2018-11-29   1468900  \n",
       "2018-11-30   2580200  \n",
       "2018-12-03   1991200  \n",
       "2018-12-04   2345200  \n",
       "2018-12-06   2769200  \n",
       "2018-12-07   2101200  \n",
       "2018-12-10   1807700  \n",
       "2018-12-11   1394700  \n",
       "2018-12-12   1523800  \n",
       "2018-12-13   1329800  \n",
       "2018-12-14   1686600  \n",
       "2018-12-17   2385400  \n",
       "2018-12-18   2192500  \n",
       "2018-12-19   2479300  \n",
       "2018-12-20   2673500  \n",
       "2018-12-21   4596000  \n",
       "2018-12-24   1590300  \n",
       "2018-12-26   2373300  \n",
       "2018-12-27   2109800  \n",
       "2018-12-28   1414800  \n",
       "2018-12-31   1493300  \n",
       "2019-01-02   1532600  \n",
       "2019-01-03   1841100  \n",
       "2019-01-04   2093900  \n",
       "2019-01-07   1981900  \n",
       "2019-01-08   1764900  \n",
       "\n",
       "[1258 rows x 6 columns]>"
      ]
     },
     "execution_count": 120,
     "metadata": {},
     "output_type": "execute_result"
    }
   ],
   "source": [
    "data_set.set_index('Date', inplace = True)\n",
    "data_set.info"
   ]
  },
  {
   "cell_type": "markdown",
   "metadata": {},
   "source": [
    "# Close Price Over 5 Years"
   ]
  },
  {
   "cell_type": "code",
   "execution_count": 121,
   "metadata": {},
   "outputs": [
    {
     "data": {
      "image/png": "[encoded data removed]",
      "text/plain": [
       "<Figure size 432x288 with 1 Axes>"
      ]
     },
     "metadata": {
      "needs_background": "light"
     },
     "output_type": "display_data"
    }
   ],
   "source": [
    "data_close = data_set['Close']\n",
    "data_close = data_close.values.reshape(len(data_close),1)\n",
    "plt.plot(data_close)\n",
    "plt.show()\n",
    "#Extract just the close price\n",
    "\n",
    "\n"
   ]
  },
  {
   "cell_type": "markdown",
   "metadata": {},
   "source": [
    "# Create Test and Train Sets"
   ]
  },
  {
   "cell_type": "code",
   "execution_count": 122,
   "metadata": {},
   "outputs": [
    {
     "data": {
      "text/plain": [
       "array([[0.09199246],\n",
       "       [0.09195412],\n",
       "       [0.0873596 ],\n",
       "       ...,\n",
       "       [0.74614492],\n",
       "       [0.74316481],\n",
       "       [0.75330002]])"
      ]
     },
     "execution_count": 122,
     "metadata": {},
     "output_type": "execute_result"
    }
   ],
   "source": [
    "scaler = MinMaxScaler(feature_range = (0,1))\n",
    "\n",
    "data_close = scaler.fit_transform(data_close)\n",
    "data_close"
   ]
  },
  {
   "cell_type": "code",
   "execution_count": 123,
   "metadata": {},
   "outputs": [
    {
     "name": "stdout",
     "output_type": "stream",
     "text": [
      "Split data into train and test:  880 378\n"
     ]
    }
   ],
   "source": [
    "#Split data into test and train \n",
    "train_size = int(len(data_close) * 0.7)\n",
    "test_size = len(data_close) - train_size \n",
    "\n",
    "data_train, data_test = data_close[0:train_size, :], data_close[train_size:len(data_close), :]\n",
    "\n",
    "print('Split data into train and test: ', len(data_train), len(data_test))"
   ]
  },
  {
   "cell_type": "markdown",
   "metadata": {},
   "source": [
    "# Convert to Time Series"
   ]
  },
  {
   "cell_type": "code",
   "execution_count": 124,
   "metadata": {},
   "outputs": [],
   "source": [
    "def create_ts(ds, series):\n",
    "    X, Y = [], []\n",
    "    for i in range(len(ds)-series - 1):\n",
    "        item = ds[i:(i+series),0]\n",
    "        X.append(item)\n",
    "        Y.append(ds[i+series, 0])\n",
    "    return np.array(X), np.array(Y)\n",
    "\n",
    "series = 7\n",
    "\n",
    "trainX, trainY = create_ts(data_train, series)\n",
    "testX, testY = create_ts(data_test, series)"
   ]
  },
  {
   "cell_type": "code",
   "execution_count": 125,
   "metadata": {},
   "outputs": [
    {
     "data": {
      "text/plain": [
       "array([[0.09199246, 0.09195412, 0.0873596 , ..., 0.1037213 , 0.1085711 ,\n",
       "        0.10494008],\n",
       "       [0.09195412, 0.0873596 , 0.10421901, ..., 0.1085711 , 0.10494008,\n",
       "        0.1133443 ],\n",
       "       [0.0873596 , 0.10421901, 0.1037213 , ..., 0.10494008, 0.1133443 ,\n",
       "        0.11418659],\n",
       "       ...,\n",
       "       [0.60019311, 0.61111188, 0.59400151, ..., 0.57886934, 0.54970977,\n",
       "        0.53807164],\n",
       "       [0.61111188, 0.59400151, 0.56196454, ..., 0.54970977, 0.53807164,\n",
       "        0.52518753],\n",
       "       [0.59400151, 0.56196454, 0.57886934, ..., 0.53807164, 0.52518753,\n",
       "        0.54189969]])"
      ]
     },
     "execution_count": 125,
     "metadata": {},
     "output_type": "execute_result"
    }
   ],
   "source": [
    "trainX  #14 days of Data "
   ]
  },
  {
   "cell_type": "code",
   "execution_count": 128,
   "metadata": {},
   "outputs": [],
   "source": [
    "#reshape into LTSM Format \n",
    "trainX = np.reshape(trainX, (trainX.shape[0], trainX.shape[1],1))\n",
    "testX = np.reshape(testX, (testX.shape[0],testX.shape[1],1))"
   ]
  },
  {
   "cell_type": "markdown",
   "metadata": {},
   "source": [
    "# Load in Keras Model"
   ]
  },
  {
   "cell_type": "code",
   "execution_count": 129,
   "metadata": {},
   "outputs": [],
   "source": [
    "import keras \n",
    "from keras import backend as K\n",
    "from keras.models import Sequential\n",
    "from keras.layers import Activation \n",
    "from keras.layers.core import Dense, Dropout\n",
    "from keras.layers.recurrent import LSTM\n",
    "from keras.optimizers import Adam\n",
    "from keras.metrics import categorical_crossentropy\n",
    "\n",
    "\n",
    "from sklearn.metrics import mean_squared_error\n",
    "import math"
   ]
  },
  {
   "cell_type": "code",
   "execution_count": 130,
   "metadata": {},
   "outputs": [],
   "source": [
    "model = Sequential()\n",
    "model.add(LSTM(4, input_shape = (series, 1)))\n",
    "model.add(Dense(1))\n",
    "model.compile(loss = 'mse', optimizer = 'adam')"
   ]
  },
  {
   "cell_type": "markdown",
   "metadata": {},
   "source": [
    "# Training the Model"
   ]
  },
  {
   "cell_type": "code",
   "execution_count": 131,
   "metadata": {},
   "outputs": [
    {
     "name": "stdout",
     "output_type": "stream",
     "text": [
      "Epoch 1/100\n",
      "872/872 [==============================] - 1s 1ms/step - loss: 0.0615\n",
      "Epoch 2/100\n",
      "872/872 [==============================] - 0s 124us/step - loss: 0.0294\n",
      "Epoch 3/100\n",
      "872/872 [==============================] - 0s 125us/step - loss: 0.0156\n",
      "Epoch 4/100\n",
      "872/872 [==============================] - 0s 119us/step - loss: 0.0119\n",
      "Epoch 5/100\n",
      "872/872 [==============================] - 0s 133us/step - loss: 0.0097\n",
      "Epoch 6/100\n",
      "872/872 [==============================] - 0s 116us/step - loss: 0.0075\n",
      "Epoch 7/100\n",
      "872/872 [==============================] - 0s 154us/step - loss: 0.0054\n",
      "Epoch 8/100\n",
      "872/872 [==============================] - 0s 134us/step - loss: 0.0035\n",
      "Epoch 9/100\n",
      "872/872 [==============================] - 0s 118us/step - loss: 0.0020\n",
      "Epoch 10/100\n",
      "872/872 [==============================] - 0s 124us/step - loss: 0.0010\n",
      "Epoch 11/100\n",
      "872/872 [==============================] - 0s 123us/step - loss: 6.1351e-04\n",
      "Epoch 12/100\n",
      "872/872 [==============================] - 0s 113us/step - loss: 4.8244e-04\n",
      "Epoch 13/100\n",
      "872/872 [==============================] - 0s 133us/step - loss: 4.5848e-04\n",
      "Epoch 14/100\n",
      "872/872 [==============================] - 0s 115us/step - loss: 4.5380e-04\n",
      "Epoch 15/100\n",
      "872/872 [==============================] - 0s 138us/step - loss: 4.5742e-04\n",
      "Epoch 16/100\n",
      "872/872 [==============================] - 0s 125us/step - loss: 4.5271e-04\n",
      "Epoch 17/100\n",
      "872/872 [==============================] - 0s 130us/step - loss: 4.5335e-04\n",
      "Epoch 18/100\n",
      "872/872 [==============================] - 0s 129us/step - loss: 4.5224e-04\n",
      "Epoch 19/100\n",
      "872/872 [==============================] - 0s 118us/step - loss: 4.5246e-04\n",
      "Epoch 20/100\n",
      "872/872 [==============================] - 0s 117us/step - loss: 4.4849e-04\n",
      "Epoch 21/100\n",
      "872/872 [==============================] - 0s 140us/step - loss: 4.5137e-04\n",
      "Epoch 22/100\n",
      "872/872 [==============================] - 0s 128us/step - loss: 4.4723e-04\n",
      "Epoch 23/100\n",
      "872/872 [==============================] - 0s 115us/step - loss: 4.5248e-04\n",
      "Epoch 24/100\n",
      "872/872 [==============================] - 0s 135us/step - loss: 4.4653e-04\n",
      "Epoch 25/100\n",
      "872/872 [==============================] - 0s 138us/step - loss: 4.4702e-04\n",
      "Epoch 26/100\n",
      "872/872 [==============================] - 0s 128us/step - loss: 4.4537e-04\n",
      "Epoch 27/100\n",
      "872/872 [==============================] - 0s 133us/step - loss: 4.4484e-04\n",
      "Epoch 28/100\n",
      "872/872 [==============================] - 0s 124us/step - loss: 4.4386e-04\n",
      "Epoch 29/100\n",
      "872/872 [==============================] - 0s 118us/step - loss: 4.4687e-04\n",
      "Epoch 30/100\n",
      "872/872 [==============================] - 0s 151us/step - loss: 4.4255e-04\n",
      "Epoch 31/100\n",
      "872/872 [==============================] - 0s 154us/step - loss: 4.4239e-04\n",
      "Epoch 32/100\n",
      "872/872 [==============================] - 0s 165us/step - loss: 4.4248e-04\n",
      "Epoch 33/100\n",
      "872/872 [==============================] - 0s 165us/step - loss: 4.3958e-04\n",
      "Epoch 34/100\n",
      "872/872 [==============================] - 0s 156us/step - loss: 4.3755e-04 0s - loss: 4.4645e-0\n",
      "Epoch 35/100\n",
      "872/872 [==============================] - 0s 142us/step - loss: 4.3872e-04\n",
      "Epoch 36/100\n",
      "872/872 [==============================] - 0s 147us/step - loss: 4.4146e-04\n",
      "Epoch 37/100\n",
      "872/872 [==============================] - 0s 161us/step - loss: 4.3687e-04\n",
      "Epoch 38/100\n",
      "872/872 [==============================] - 0s 161us/step - loss: 4.3490e-04\n",
      "Epoch 39/100\n",
      "872/872 [==============================] - 0s 147us/step - loss: 4.3461e-04\n",
      "Epoch 40/100\n",
      "872/872 [==============================] - 0s 156us/step - loss: 4.3570e-04\n",
      "Epoch 41/100\n",
      "872/872 [==============================] - 0s 148us/step - loss: 4.3082e-04\n",
      "Epoch 42/100\n",
      "872/872 [==============================] - 0s 128us/step - loss: 4.2977e-04\n",
      "Epoch 43/100\n",
      "872/872 [==============================] - 0s 133us/step - loss: 4.2899e-04\n",
      "Epoch 44/100\n",
      "872/872 [==============================] - 0s 174us/step - loss: 4.2835e-04\n",
      "Epoch 45/100\n",
      "872/872 [==============================] - 0s 147us/step - loss: 4.2713e-04\n",
      "Epoch 46/100\n",
      "872/872 [==============================] - 0s 124us/step - loss: 4.2646e-04\n",
      "Epoch 47/100\n",
      "872/872 [==============================] - 0s 142us/step - loss: 4.3101e-04\n",
      "Epoch 48/100\n",
      "872/872 [==============================] - 0s 142us/step - loss: 4.2651e-04\n",
      "Epoch 49/100\n",
      "872/872 [==============================] - 0s 138us/step - loss: 4.2453e-04\n",
      "Epoch 50/100\n",
      "872/872 [==============================] - 0s 122us/step - loss: 4.2308e-04\n",
      "Epoch 51/100\n",
      "872/872 [==============================] - 0s 115us/step - loss: 4.2213e-04\n",
      "Epoch 52/100\n",
      "872/872 [==============================] - 0s 116us/step - loss: 4.2288e-04\n",
      "Epoch 53/100\n",
      "872/872 [==============================] - 0s 138us/step - loss: 4.1794e-04\n",
      "Epoch 54/100\n",
      "872/872 [==============================] - 0s 128us/step - loss: 4.1788e-04\n",
      "Epoch 55/100\n",
      "872/872 [==============================] - 0s 133us/step - loss: 4.2195e-04\n",
      "Epoch 56/100\n",
      "872/872 [==============================] - 0s 124us/step - loss: 4.1837e-04\n",
      "Epoch 57/100\n",
      "872/872 [==============================] - 0s 116us/step - loss: 4.1491e-04\n",
      "Epoch 58/100\n",
      "872/872 [==============================] - 0s 139us/step - loss: 4.1238e-04\n",
      "Epoch 59/100\n",
      "872/872 [==============================] - 0s 138us/step - loss: 4.1171e-04\n",
      "Epoch 60/100\n",
      "872/872 [==============================] - 0s 147us/step - loss: 4.1067e-04\n",
      "Epoch 61/100\n",
      "872/872 [==============================] - 0s 138us/step - loss: 4.1004e-04\n",
      "Epoch 62/100\n",
      "872/872 [==============================] - 0s 130us/step - loss: 4.1193e-04\n",
      "Epoch 63/100\n",
      "872/872 [==============================] - 0s 124us/step - loss: 4.0866e-04\n",
      "Epoch 64/100\n",
      "872/872 [==============================] - 0s 128us/step - loss: 4.1058e-04\n",
      "Epoch 65/100\n",
      "872/872 [==============================] - 0s 142us/step - loss: 4.0963e-04\n",
      "Epoch 66/100\n",
      "872/872 [==============================] - 0s 126us/step - loss: 4.0888e-04\n",
      "Epoch 67/100\n",
      "872/872 [==============================] - 0s 129us/step - loss: 4.0368e-04\n",
      "Epoch 68/100\n",
      "872/872 [==============================] - 0s 128us/step - loss: 4.0646e-04\n",
      "Epoch 69/100\n",
      "872/872 [==============================] - 0s 128us/step - loss: 4.0554e-04\n",
      "Epoch 70/100\n",
      "872/872 [==============================] - 0s 125us/step - loss: 4.0076e-04\n",
      "Epoch 71/100\n",
      "872/872 [==============================] - 0s 133us/step - loss: 3.9972e-04\n",
      "Epoch 72/100\n",
      "872/872 [==============================] - 0s 138us/step - loss: 3.9642e-04\n",
      "Epoch 73/100\n",
      "872/872 [==============================] - 0s 133us/step - loss: 3.9635e-04\n",
      "Epoch 74/100\n",
      "872/872 [==============================] - 0s 133us/step - loss: 3.9403e-04\n",
      "Epoch 75/100\n",
      "872/872 [==============================] - 0s 133us/step - loss: 3.9686e-04\n",
      "Epoch 76/100\n",
      "872/872 [==============================] - 0s 124us/step - loss: 3.9220e-04\n",
      "Epoch 77/100\n",
      "872/872 [==============================] - 0s 124us/step - loss: 3.9665e-04\n",
      "Epoch 78/100\n",
      "872/872 [==============================] - 0s 133us/step - loss: 3.9085e-04\n",
      "Epoch 79/100\n",
      "872/872 [==============================] - 0s 138us/step - loss: 3.9185e-04\n",
      "Epoch 80/100\n",
      "872/872 [==============================] - 0s 120us/step - loss: 3.8862e-04\n",
      "Epoch 81/100\n",
      "872/872 [==============================] - 0s 140us/step - loss: 3.8875e-04\n",
      "Epoch 82/100\n",
      "872/872 [==============================] - 0s 141us/step - loss: 3.8474e-04\n",
      "Epoch 83/100\n",
      "872/872 [==============================] - 0s 128us/step - loss: 3.8444e-04\n",
      "Epoch 84/100\n",
      "872/872 [==============================] - 0s 138us/step - loss: 3.8599e-04\n",
      "Epoch 85/100\n",
      "872/872 [==============================] - 0s 124us/step - loss: 3.8275e-04\n",
      "Epoch 86/100\n",
      "872/872 [==============================] - 0s 131us/step - loss: 3.8626e-04\n",
      "Epoch 87/100\n",
      "872/872 [==============================] - 0s 131us/step - loss: 3.7954e-04\n",
      "Epoch 88/100\n",
      "872/872 [==============================] - 0s 121us/step - loss: 3.7842e-04 0s - loss: 3.1942e-0\n",
      "Epoch 89/100\n",
      "872/872 [==============================] - 0s 128us/step - loss: 3.7782e-04\n",
      "Epoch 90/100\n",
      "872/872 [==============================] - 0s 128us/step - loss: 3.7936e-04\n",
      "Epoch 91/100\n",
      "872/872 [==============================] - 0s 124us/step - loss: 3.7298e-04\n",
      "Epoch 92/100\n",
      "872/872 [==============================] - 0s 138us/step - loss: 3.7885e-04\n",
      "Epoch 93/100\n"
     ]
    },
    {
     "name": "stdout",
     "output_type": "stream",
     "text": [
      "872/872 [==============================] - 0s 124us/step - loss: 3.7214e-04\n",
      "Epoch 94/100\n",
      "872/872 [==============================] - 0s 120us/step - loss: 3.6828e-04\n",
      "Epoch 95/100\n",
      "872/872 [==============================] - 0s 116us/step - loss: 3.7133e-04\n",
      "Epoch 96/100\n",
      "872/872 [==============================] - 0s 127us/step - loss: 3.6733e-04\n",
      "Epoch 97/100\n",
      "872/872 [==============================] - 0s 120us/step - loss: 3.6556e-04\n",
      "Epoch 98/100\n",
      "872/872 [==============================] - 0s 122us/step - loss: 3.6597e-04\n",
      "Epoch 99/100\n",
      "872/872 [==============================] - 0s 104us/step - loss: 3.6657e-04\n",
      "Epoch 100/100\n",
      "872/872 [==============================] - 0s 133us/step - loss: 3.6881e-04\n"
     ]
    },
    {
     "data": {
      "text/plain": [
       "<keras.callbacks.History at 0x2a82fbfc978>"
      ]
     },
     "execution_count": 131,
     "metadata": {},
     "output_type": "execute_result"
    }
   ],
   "source": [
    "model.fit(trainX, trainY, epochs = 100, batch_size = 32)"
   ]
  },
  {
   "cell_type": "markdown",
   "metadata": {},
   "source": [
    "# Test the Model "
   ]
  },
  {
   "cell_type": "code",
   "execution_count": 132,
   "metadata": {},
   "outputs": [],
   "source": [
    "trainPredictions = model.predict(trainX)\n",
    "testPredictions = model.predict(testX)\n",
    "\n",
    "#unscale\n",
    "trainPredictions = scaler.inverse_transform(trainPredictions)\n",
    "testPredictions = scaler.inverse_transform(testPredictions)\n",
    "trainY = scaler.inverse_transform([trainY])\n",
    "testY = scaler.inverse_transform([testY]) "
   ]
  },
  {
   "cell_type": "code",
   "execution_count": 133,
   "metadata": {},
   "outputs": [
    {
     "name": "stdout",
     "output_type": "stream",
     "text": [
      "Train score: %.2f rmse 15.252237465679086\n",
      "Test score:  %.2f rmse 46.1628422545394\n"
     ]
    }
   ],
   "source": [
    "#Calculate RMS Value\n",
    "trainScore = math.sqrt (mean_squared_error(trainY[0], trainPredictions[:, 0]))\n",
    "testScore = math.sqrt (mean_squared_error(testY[0], testPredictions[:, 0]))\n",
    "print('Train score: %.2f rmse', trainScore)\n",
    "print('Test score:  %.2f rmse', testScore)"
   ]
  },
  {
   "cell_type": "code",
   "execution_count": 139,
   "metadata": {},
   "outputs": [
    {
     "data": {
      "image/png": "[encoded data removed]",
      "text/plain": [
       "<Figure size 432x288 with 1 Axes>"
      ]
     },
     "metadata": {
      "needs_background": "light"
     },
     "output_type": "display_data"
    }
   ],
   "source": [
    "#Plot Predictions\n",
    "train_plot = np.empty_like(data_close)\n",
    "train_plot[:,:] = np.nan\n",
    "train_plot[series:len(trainPredictions)+series, :] = trainPredictions\n",
    "\n",
    "test_plot = np.empty_like(data_close)\n",
    "test_plot[:,:] = np.nan\n",
    "test_plot[len(trainPredictions)+(series*2) + 1:len(data_close)-1, :] = testPredictions\n",
    "\n",
    "plt.plot(scaler.inverse_transform(data_close))\n",
    "plt.plot(train_plot)\n",
    "plt.plot(test_plot)\n",
    "plt.show()"
   ]
  },
  {
   "cell_type": "code",
   "execution_count": null,
   "metadata": {},
   "outputs": [],
   "source": []
  }
 ],
 "metadata": {
  "kernelspec": {
   "display_name": "Python 3",
   "language": "python",
   "name": "python3"
  },
  "language_info": {
   "codemirror_mode": {
    "name": "ipython",
    "version": 3
   },
   "file_extension": ".py",
   "mimetype": "text/x-python",
   "name": "python",
   "nbconvert_exporter": "python",
   "pygments_lexer": "ipython3",
   "version": "3.6.3"
  }
 },
 "nbformat": 4,
 "nbformat_minor": 2
}
